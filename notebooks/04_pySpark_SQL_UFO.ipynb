{
 "cells": [
  {
   "cell_type": "markdown",
   "metadata": {},
   "source": [
    "# SQL en PySpark\n",
    "\n",
    "\n",
    "## 1. Instanciar una app de Spark\n",
    "## 2. Importar ```SQLContext``` y ```Row``` de ```pyspark.sql```\n",
    "## 3. Instanciar ```SQLContext``` al contexto de Spark"
   ]
  },
  {
   "cell_type": "code",
   "execution_count": 1,
   "metadata": {
    "collapsed": false,
    "deletable": true,
    "editable": true
   },
   "outputs": [],
   "source": [
    "import pyspark\n",
    "sc = pyspark.SparkContext(appName=\"ufoisrael\")\n",
    "sc.setLogLevel(\"WARN\")\n",
    "\n",
    "from pyspark.sql import SQLContext\n",
    "from pyspark.sql import Row\n",
    "sql = SQLContext(sc)"
   ]
  },
  {
   "cell_type": "markdown",
   "metadata": {},
   "source": [
    "## Cargar las siguientes funciones de utileria 😉"
   ]
  },
  {
   "cell_type": "code",
   "execution_count": 2,
   "metadata": {
    "collapsed": true,
    "deletable": true,
    "editable": true
   },
   "outputs": [],
   "source": [
    "import csv\n",
    "import string\n",
    "exclude = set(string.punctuation)\n",
    "\n",
    "def parseLine(line):\n",
    "    csvdata = csv.reader([line], delimiter='\\t', quotechar='\"')\n",
    "    for fields in csvdata:\n",
    "        try:\n",
    "            summary = ''.join(ch for ch in fields[5].lower() if ch not in exclude)\n",
    "            return {\"City\": fields[2], \"Summary\" : summary}\n",
    "        except:\n",
    "            return { \"City\" : \"City\", \"Summary\": \"Summary\"}\n",
    "        \n",
    "        \n",
    "        \n",
    "        \n",
    "exclude = set(string.punctuation)\n",
    "colors = ('silver','gold','white','black','green','purple','orange','yellow','red','blue')\n",
    "directions =('north','south','east','west')\n",
    "\n",
    "def parseLineExtractColorAndDirection(line):\n",
    "    csvdata = csv.reader([line], delimiter='\\t', quotechar='\"')\n",
    "    for fields in csvdata:\n",
    "        try:\n",
    "            summary = ''.join(ch for ch in fields[5].lower() if ch not in exclude)\n",
    "            colorcounts = [1 if summary.find(str(c)) != -1 else 0 for c in colors]\n",
    "            if (sum(colorcounts)==0):\n",
    "                color='none'\n",
    "            elif (sum(colorcounts)>1):\n",
    "                color='multiple'\n",
    "            else:\n",
    "                color = colors[colorcounts.index(1)]\n",
    "            directioncounts = [1 if summary.find(str(d)) != -1 else 0 for d in directions]\n",
    "            if (sum(directioncounts)==0):\n",
    "                direction='none'\n",
    "            elif (sum(directioncounts)>1):\n",
    "                direction='multiple'\n",
    "            else:\n",
    "                direction = directions[directioncounts.index(1)]\n",
    "\n",
    "            return { \"City\": fields[2], \"Color\" : color,  \"Direction\": direction, \"Summary\" : summary}\n",
    "        except:\n",
    "            return { \"City\" : \"City\"  }\n",
    "        \n",
    "        \n",
    "def toRow(dic):\n",
    "    return Row(City=dic['City'],Color=dic['Color'],Direction=dic['Direction'],Summary=dic['Summary'])"
   ]
  },
  {
   "cell_type": "markdown",
   "metadata": {
    "deletable": true,
    "editable": true
   },
   "source": [
    "## Obtener el dataset UFO_awesome"
   ]
  },
  {
   "cell_type": "code",
   "execution_count": null,
   "metadata": {
    "collapsed": false,
    "deletable": true,
    "editable": true
   },
   "outputs": [],
   "source": [
    "!wget https://github.com/johnmyleswhite/ML_for_Hackers/blob/76410666caf8b0e725c07d3210aaacea66b347fb/01-Introduction/code/data/ufo/ufo_awesome.tsv?raw=true"
   ]
  },
  {
   "cell_type": "markdown",
   "metadata": {},
   "source": [
    "Crear un RDD a partir del archivo TSV"
   ]
  },
  {
   "cell_type": "code",
   "execution_count": 3,
   "metadata": {
    "collapsed": false,
    "deletable": true,
    "editable": true,
    "scrolled": true
   },
   "outputs": [
    {
     "data": {
      "text/plain": [
       "['19951009\\t19951009\\t Iowa City, IA\\t\\t\\tMan repts. witnessing &quot;flash, followed by a classic UFO, w/ a tailfin at back.&quot; Red color on top half of tailfin. Became triangular.']"
      ]
     },
     "execution_count": 3,
     "metadata": {},
     "output_type": "execute_result"
    }
   ],
   "source": [
    "data = sc.textFile('ufo_awesome.tsv')\n"
   ]
  },
  {
   "cell_type": "markdown",
   "metadata": {
    "deletable": true,
    "editable": true
   },
   "source": [
    "Inspeccionar la cabecera del dataset"
   ]
  },
  {
   "cell_type": "code",
   "execution_count": 3,
   "metadata": {
    "collapsed": false,
    "deletable": true,
    "editable": true,
    "scrolled": true
   },
   "outputs": [
    {
     "data": {
      "text/plain": [
       "['19951009\\t19951009\\t Iowa City, IA\\t\\t\\tMan repts. witnessing &quot;flash, followed by a classic UFO, w/ a tailfin at back.&quot; Red color on top half of tailfin. Became triangular.']"
      ]
     },
     "execution_count": 3,
     "metadata": {},
     "output_type": "execute_result"
    }
   ],
   "source": [
    "data.take(1)"
   ]
  },
  {
   "cell_type": "markdown",
   "metadata": {},
   "source": [
    "Aplicar la función *parseLine* a cada línea del dataset y filtrar los elementos que no contienen ciudad registrada"
   ]
  },
  {
   "cell_type": "code",
   "execution_count": 4,
   "metadata": {
    "collapsed": false,
    "deletable": true,
    "editable": true
   },
   "outputs": [
    {
     "data": {
      "text/plain": [
       "[{'City': ' Iowa City, IA',\n",
       "  'Summary': 'man repts witnessing quotflash followed by a classic ufo w a tailfin at backquot red color on top half of tailfin became triangular'},\n",
       " {'City': ' Milwaukee, WI',\n",
       "  'Summary': 'man  on hwy 43 sw of milwaukee sees large bright blue light streak by his car descend turn cross road ahead strobe bizarre'},\n",
       " {'City': ' Shelton, WA',\n",
       "  'Summary': 'telephoned reportca woman visiting daughter witness discs and triangular ships over squaxin island in puget sound dramatic  written report with illustrations submitted to nuforc'},\n",
       " {'City': ' Columbia, MO',\n",
       "  'Summary': 'man repts sonaposs bizarre sighting of small humanoid creature in back yard  reptd in acteon journal st louis ufo newsletter'},\n",
       " {'City': ' Seattle, WA',\n",
       "  'Summary': 'anonymous caller repts sighting 4 ufoaposs in nne sky 45 deg above horizon  no other facts reptd  no return tel '}]"
      ]
     },
     "execution_count": 4,
     "metadata": {},
     "output_type": "execute_result"
    }
   ],
   "source": [
    "ufo_data = data.map(parseLine).filter(lambda ufo: ufo['City'] != 'City')\n",
    "ufo_data.take(5)\n"
   ]
  },
  {
   "cell_type": "markdown",
   "metadata": {},
   "source": [
    "Crear tres RDDs donde almacenemos:\n",
    "\n",
    "1. Resumen de cada avistamiento (map())\n",
    "2. Todas las palabras contenidas en los resumenes  (flatMap().map())\n",
    "3. Orientación (puntos cardinales) del avistamiento según las palabras filtradas en el RDD de palabras (reduceByKey().filter())"
   ]
  },
  {
   "cell_type": "code",
   "execution_count": 5,
   "metadata": {
    "collapsed": false,
    "deletable": true,
    "editable": true
   },
   "outputs": [
    {
     "data": {
      "text/plain": [
       "[('east', 17893), ('north', 19565), ('west', 17868), ('south', 17955)]"
      ]
     },
     "execution_count": 5,
     "metadata": {},
     "output_type": "execute_result"
    }
   ],
   "source": [
    "ufo_summaries = ufo_data.map( lambda ufo: ufo['Summary'])\n",
    "\n",
    "ufo_words = ufo_summaries.flatMap(lambda summary: summary.split(' ')).map(lambda word: (word,1))\n",
    "\n",
    "ufo_direction = ufo_words.reduceByKey(lambda a,b: a+b).filter( lambda tup: tup[0] in ('north','south','east','west'))\n",
    "\n",
    "ufo_direction.collect()\n"
   ]
  },
  {
   "cell_type": "markdown",
   "metadata": {},
   "source": [
    "Procesar el color y dirección del RDD original al aplicat la función ```parseLineExtractColorAndDirection``` en aquellas líneas que tienen registro de ciudad    ```(map().filter())```"
   ]
  },
  {
   "cell_type": "code",
   "execution_count": 6,
   "metadata": {
    "collapsed": false,
    "deletable": true,
    "editable": true,
    "scrolled": true
   },
   "outputs": [
    {
     "data": {
      "text/plain": [
       "[{'City': ' Iowa City, IA',\n",
       "  'Color': 'red',\n",
       "  'Direction': 'none',\n",
       "  'Summary': 'man repts witnessing quotflash followed by a classic ufo w a tailfin at backquot red color on top half of tailfin became triangular'},\n",
       " {'City': ' Milwaukee, WI',\n",
       "  'Color': 'blue',\n",
       "  'Direction': 'none',\n",
       "  'Summary': 'man  on hwy 43 sw of milwaukee sees large bright blue light streak by his car descend turn cross road ahead strobe bizarre'},\n",
       " {'City': ' Shelton, WA',\n",
       "  'Color': 'none',\n",
       "  'Direction': 'none',\n",
       "  'Summary': 'telephoned reportca woman visiting daughter witness discs and triangular ships over squaxin island in puget sound dramatic  written report with illustrations submitted to nuforc'},\n",
       " {'City': ' Columbia, MO',\n",
       "  'Color': 'none',\n",
       "  'Direction': 'none',\n",
       "  'Summary': 'man repts sonaposs bizarre sighting of small humanoid creature in back yard  reptd in acteon journal st louis ufo newsletter'},\n",
       " {'City': ' Seattle, WA',\n",
       "  'Color': 'none',\n",
       "  'Direction': 'none',\n",
       "  'Summary': 'anonymous caller repts sighting 4 ufoaposs in nne sky 45 deg above horizon  no other facts reptd  no return tel '}]"
      ]
     },
     "execution_count": 6,
     "metadata": {},
     "output_type": "execute_result"
    }
   ],
   "source": [
    "ufo_data = data.map(parseLineExtractColorAndDirection).filter(lambda ufo: ufo['City'] != 'City')\n",
    "ufo_data.take(5)\n"
   ]
  },
  {
   "cell_type": "markdown",
   "metadata": {},
   "source": [
    "Repetir el paso anterior, pero exportar el RDD a un DF"
   ]
  },
  {
   "cell_type": "code",
   "execution_count": 7,
   "metadata": {
    "collapsed": false,
    "deletable": true,
    "editable": true
   },
   "outputs": [
    {
     "name": "stdout",
     "output_type": "stream",
     "text": [
      "+--------------------+-----+---------+--------------------+\n",
      "|                City|Color|Direction|             Summary|\n",
      "+--------------------+-----+---------+--------------------+\n",
      "|       Iowa City, IA|  red|     none|man repts witness...|\n",
      "|       Milwaukee, WI| blue|     none|man  on hwy 43 sw...|\n",
      "|         Shelton, WA| none|     none|telephoned report...|\n",
      "|        Columbia, MO| none|     none|man repts sonapos...|\n",
      "|         Seattle, WA| none|     none|anonymous caller ...|\n",
      "| Brunswick County...|white|     none|sheriffaposs offi...|\n",
      "|           Fargo, ND|  red|     none|female student w ...|\n",
      "|       Las Vegas, NV|  red|     none|man repts bright ...|\n",
      "|          Morton, WA| none|     none|woman reports 2 c...|\n",
      "|         Redmond, WA|white|     none|young man w 2 cow...|\n",
      "|          Renton, WA| none|     none|man repts seeing ...|\n",
      "|     Springfield, IL| none|     none|man amp mother re...|\n",
      "|          Sharon, MA| none|     none|man witnessed quo...|\n",
      "|         Laporte, WA|  red|     none|several children ...|\n",
      "|      Villa Rica, GA| none|     none|ga hwy patrol dis...|\n",
      "+--------------------+-----+---------+--------------------+\n",
      "only showing top 15 rows\n",
      "\n"
     ]
    }
   ],
   "source": [
    "ufo_data = data.map(parseLineExtractColorAndDirection).filter(lambda d: d['City'] != 'City')\n",
    "ufo_dataframe = ufo_data.map(toRow).toDF()\n",
    "ufo_dataframe.show(15)"
   ]
  },
  {
   "cell_type": "markdown",
   "metadata": {},
   "source": [
    "Exportar el DF a DF de Pandas"
   ]
  },
  {
   "cell_type": "code",
   "execution_count": 8,
   "metadata": {
    "collapsed": false,
    "deletable": true,
    "editable": true,
    "scrolled": true
   },
   "outputs": [],
   "source": [
    "ufo_pandas = ufo_dataframe.toPandas()"
   ]
  },
  {
   "cell_type": "code",
   "execution_count": 19,
   "metadata": {
    "collapsed": false,
    "deletable": true,
    "editable": true,
    "scrolled": true
   },
   "outputs": [
    {
     "data": {
      "text/html": [
       "<div>\n",
       "<table border=\"1\" class=\"dataframe\">\n",
       "  <thead>\n",
       "    <tr style=\"text-align: right;\">\n",
       "      <th></th>\n",
       "      <th>City</th>\n",
       "      <th>Color</th>\n",
       "      <th>Direction</th>\n",
       "      <th>Summary</th>\n",
       "    </tr>\n",
       "  </thead>\n",
       "  <tbody>\n",
       "    <tr>\n",
       "      <th>0</th>\n",
       "      <td>Iowa City, IA</td>\n",
       "      <td>red</td>\n",
       "      <td>none</td>\n",
       "      <td>man repts witnessing quotflash followed by a c...</td>\n",
       "    </tr>\n",
       "    <tr>\n",
       "      <th>1</th>\n",
       "      <td>Milwaukee, WI</td>\n",
       "      <td>blue</td>\n",
       "      <td>none</td>\n",
       "      <td>man  on hwy 43 sw of milwaukee sees large brig...</td>\n",
       "    </tr>\n",
       "    <tr>\n",
       "      <th>2</th>\n",
       "      <td>Shelton, WA</td>\n",
       "      <td>none</td>\n",
       "      <td>none</td>\n",
       "      <td>telephoned reportca woman visiting daughter wi...</td>\n",
       "    </tr>\n",
       "    <tr>\n",
       "      <th>3</th>\n",
       "      <td>Columbia, MO</td>\n",
       "      <td>none</td>\n",
       "      <td>none</td>\n",
       "      <td>man repts sonaposs bizarre sighting of small h...</td>\n",
       "    </tr>\n",
       "    <tr>\n",
       "      <th>4</th>\n",
       "      <td>Seattle, WA</td>\n",
       "      <td>none</td>\n",
       "      <td>none</td>\n",
       "      <td>anonymous caller repts sighting 4 ufoaposs in ...</td>\n",
       "    </tr>\n",
       "  </tbody>\n",
       "</table>\n",
       "</div>"
      ],
      "text/plain": [
       "             City Color Direction  \\\n",
       "0   Iowa City, IA   red      none   \n",
       "1   Milwaukee, WI  blue      none   \n",
       "2     Shelton, WA  none      none   \n",
       "3    Columbia, MO  none      none   \n",
       "4     Seattle, WA  none      none   \n",
       "\n",
       "                                             Summary  \n",
       "0  man repts witnessing quotflash followed by a c...  \n",
       "1  man  on hwy 43 sw of milwaukee sees large brig...  \n",
       "2  telephoned reportca woman visiting daughter wi...  \n",
       "3  man repts sonaposs bizarre sighting of small h...  \n",
       "4  anonymous caller repts sighting 4 ufoaposs in ...  "
      ]
     },
     "execution_count": 19,
     "metadata": {},
     "output_type": "execute_result"
    }
   ],
   "source": [
    "ufo_pandas.head(5)"
   ]
  },
  {
   "cell_type": "markdown",
   "metadata": {},
   "source": [
    "Inspeccionar el esquma del DF"
   ]
  },
  {
   "cell_type": "code",
   "execution_count": 9,
   "metadata": {
    "collapsed": false,
    "deletable": true,
    "editable": true
   },
   "outputs": [
    {
     "name": "stdout",
     "output_type": "stream",
     "text": [
      "root\n",
      " |-- City: string (nullable = true)\n",
      " |-- Color: string (nullable = true)\n",
      " |-- Direction: string (nullable = true)\n",
      " |-- Summary: string (nullable = true)\n",
      "\n"
     ]
    }
   ],
   "source": [
    "ufo_dataframe.printSchema()"
   ]
  },
  {
   "cell_type": "code",
   "execution_count": 17,
   "metadata": {
    "collapsed": false,
    "deletable": true,
    "editable": true
   },
   "outputs": [
    {
     "name": "stdout",
     "output_type": "stream",
     "text": [
      "1 loop, best of 3: 9.28 s per loop\n"
     ]
    }
   ],
   "source": [
    "%timeit ufo_dataframe.groupBy(ufo_dataframe.Color) \\\n",
    "              .count() \\\n",
    "              .toPandas() \\\n",
    "              .sort_values('count')"
   ]
  },
  {
   "cell_type": "code",
   "execution_count": 18,
   "metadata": {
    "collapsed": false,
    "deletable": true,
    "editable": true
   },
   "outputs": [
    {
     "name": "stdout",
     "output_type": "stream",
     "text": [
      "1 loop, best of 3: 9.83 s per loop\n"
     ]
    }
   ],
   "source": [
    "ufo_dataframe.registerTempTable('ufo')\n",
    "%timeit sql.sql(\"SELECT Color, count(*) as ColorCount FROM ufo GROUP BY Color ORDER BY ColorCount\").toPandas()"
   ]
  },
  {
   "cell_type": "code",
   "execution_count": 19,
   "metadata": {
    "collapsed": false,
    "deletable": true,
    "editable": true
   },
   "outputs": [],
   "source": [
    "sc.stop()"
   ]
  },
  {
   "cell_type": "code",
   "execution_count": null,
   "metadata": {
    "collapsed": true,
    "deletable": true,
    "editable": true
   },
   "outputs": [],
   "source": []
  }
 ],
 "metadata": {
  "kernelspec": {
   "display_name": "Python 3",
   "language": "python",
   "name": "python3"
  },
  "language_info": {
   "codemirror_mode": {
    "name": "ipython",
    "version": 3
   },
   "file_extension": ".py",
   "mimetype": "text/x-python",
   "name": "python",
   "nbconvert_exporter": "python",
   "pygments_lexer": "ipython3",
   "version": "3.5.2"
  }
 },
 "nbformat": 4,
 "nbformat_minor": 2
}
