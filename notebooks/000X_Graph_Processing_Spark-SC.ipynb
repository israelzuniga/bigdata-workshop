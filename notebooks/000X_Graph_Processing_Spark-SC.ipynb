{
 "cells": [
  {
   "cell_type": "markdown",
   "metadata": {},
   "source": [
    "# Introducción a los grafos\n",
    "\n",
    "Un *grafo* es un conjunto de objetos llamados vértices (o nodos) que están unidos entre ellos por enlaces llamados aristas (líneas, o arcos). Los grafos pueden ser de diferentes tipos o tener distintas caracteristicas que los definen:\n",
    "\n",
    "- Dirigos: Todos los aristas se dirigen de un vértice a otro.\n",
    "- No dirigidos: Todos los aristas son bidireccionales (o no tienen una dirección definida).\n",
    "- Ciclicos: Contienen al menos un grafo circular\n",
    "- Aciclico: No contienen ciclos en los grafos (conocidos también como \"arbol\")\n",
    "- Ponderado: Pesos/ponderaciones asignados en los vertices o aristas\n",
    "- No ponderado: Todos los aristas y vertices no tienen peso.\n",
    "\n",
    "\n",
    "Un ejemplo de grafo, son los DAGs representados en la planeación de ejecución de Spark.\n",
    "\n",
    "### Qué problemas pueden representarse mediante grafos?\n",
    " 😧\n",
    "\n",
    "----\n",
    "\n",
    "![Grafo](https://github.com/israelzuniga/dlatam-bigdata-workshop/blob/master/notebooks/img/grafo_acyc.png?raw=true)\n",
    "\n",
    "El procesamiento de grafos involucra cruzar un grafo y ejecutar operaciones en cada nodo. Esto se enfoca en las relaciones de los elementos y la parelelización puede ser compleja. El primer desafio es extraer las relaciones entre elementos y desplegarlos en una estructura paralelizable. Una vez que se han identificado las relaciones, una forma de paralelizar es creando una lista de proximidad.\n",
    "\n",
    "Una lista de proximidad representa las relaciones entre vértices en un grafo como una lista de aristas. Conceptualmente es más fácil iniciar con una matriz de proximidad, que representa las relaciones entre vértices un una matriz dispersa, y después crear una lista a partir de la matriz.\n",
    "\n",
    "Tomando como ejemplo el anterior grafo ponderado. Se construye una matriz que consiste en cada vértice por cada arista. Si cada vértice está conectado directamente a otro, el valor de la intersección en la matriz es el peso asignado a la relación. Si no hay unión entre nodos, el valor de la intersección es cero (incluyendo la intersección del grafo consigo mismo).\n",
    "\n",
    "Una matriz de proximidad quedaría así:\n",
    "\n",
    "👽|A|B|C|D|E|F|G|H\n",
    "--|--|--|--|--|--|--|--|--\n",
    "A|0|**1**|**2**|**3**|0|0|0|0\n",
    "B|0|0|0|0|**4**|0|0|0\n",
    "C|0|0|0|0|**5**|**4**|0|0\n",
    "D|0|0|0|0|0|0|**6**|0\n",
    "E|0|0|0|0|0|**6**|0|0\n",
    "F|0|0|0|0|0|0|0|**3**\n",
    "G|0|0|0|0|0|**2**|0|0\n",
    "H|0|0|0|0|0|0|0|0\n",
    "\n",
    "\n",
    "La matriz de proximidad es ineficiente por lo dispersa que puede ser. Para convertirse en una lista de proximidad, se eliminan los ceros de la matriz y donde cada intersección de nodo y peso es representado en una tupla:\n",
    "\n",
    "```\n",
    "A, [(B,1), (C,2), (D,3)]\n",
    "B, [(E,4)]\n",
    "C, [(E,5), (F,4)]\n",
    "D, [(G,6)]\n",
    "E, [(F,6)]\n",
    "F, [(H,3)]\n",
    "G, [(F,2)]\n",
    "```\n",
    "\n",
    "\n",
    "Esta estructura puede comprimirse aún más en una lista de tripplets (trillizos), una estructura para definir un arista por su origen, destino y relación:\n",
    "\n",
    "```\n",
    "(A,B,1)\n",
    "(A,C,2)\n",
    "(A,D,3)\n",
    "(B,E,4)\n",
    "(C,E,5)\n",
    "(C,F,4)\n",
    "(D,G,6)\n",
    "(E,F,6)\n",
    "(F,H,3)\n",
    "(G,F,2)\n",
    "```\n",
    "\n",
    "Esta nueva estructura representa los aristas en un grafo, sus vértices y los atributos para ejecutar las operaciones asociadas. Spark (incluyendo RDD, DataFrame API y otras APIs) puede ser usado para preparar los datos, después las extensiones para grafos pueden usarse para procesar los datos.\n",
    "\n",
    "\n",
    "-----\n",
    "\n",
    "GraphX: Spark's Graph Processing System"
   ]
  },
  {
   "cell_type": "code",
   "execution_count": null,
   "metadata": {
    "collapsed": true
   },
   "outputs": [],
   "source": [
    "import os\n",
    "os.environ['PYSPARK_SUBMIT_ARGS'] = '--packages graphframes:graphframes:0.5.0-spark2.1-s_2.11,com.amazonaws:aws-java-sdk:1.10.34,org.apache.hadoop:hadoop-aws:2.6.0 pyspark-shell'\n",
    "from pyspark import SparkContext, SparkConf\n",
    "conf = (SparkConf()\n",
    "        .setMaster('local[*]')\n",
    "        .setAppName('My graphsx')\n",
    "        .set('spark.executor.memory', '4g'))\n",
    "\n",
    "\n",
    "\n",
    "sc = SparkContext(conf = conf)\n",
    "\n",
    "\n",
    "from pyspark.sql import SQLContext\n",
    "sqlContext = SQLContext(sc)\n",
    "\n",
    "\n",
    "from graphframes import *"
   ]
  },
  {
   "cell_type": "code",
   "execution_count": null,
   "metadata": {
    "collapsed": true
   },
   "outputs": [],
   "source": [
    "# Create a Vertex DataFrame with unique ID column \"id\"\n",
    "v = sqlContext.createDataFrame([\n",
    "  (\"a\", \"Alice\", 34),\n",
    "  (\"b\", \"Bob\", 36),\n",
    "  (\"c\", \"Charlie\", 30),\n",
    "], [\"id\", \"name\", \"age\"])\n",
    "# Create an Edge DataFrame with \"src\" and \"dst\" columns\n",
    "e = sqlContext.createDataFrame([\n",
    "  (\"a\", \"b\", \"friend\"),\n",
    "  (\"b\", \"c\", \"follow\"),\n",
    "  (\"c\", \"b\", \"follow\"),\n",
    "], [\"src\", \"dst\", \"relationship\"])\n",
    "\n"
   ]
  },
  {
   "cell_type": "code",
   "execution_count": null,
   "metadata": {
    "collapsed": true
   },
   "outputs": [],
   "source": [
    "# Create GraphFrame\n",
    "g = GraphFrame(v, e)\n"
   ]
  },
  {
   "cell_type": "code",
   "execution_count": null,
   "metadata": {
    "collapsed": true
   },
   "outputs": [],
   "source": [
    "# Task: Get in-degree of each vertex.? \n",
    "g.inDegrees.show()\n",
    "\n",
    "# Task: Count the number of \"follow\" connections in the graph.\n",
    "g.edges.filter(######).count()\n",
    "\n",
    "# TaskL Run PageRank algorithm, and show results.\n",
    "results = g.pageRank(resetProbability=0.01, maxIter=20)\n",
    "results.vertices.select(#####).show()"
   ]
  }
 ],
 "metadata": {
  "kernelspec": {
   "display_name": "Python 3",
   "language": "python",
   "name": "python3"
  },
  "language_info": {
   "codemirror_mode": {
    "name": "ipython",
    "version": 3
   },
   "file_extension": ".py",
   "mimetype": "text/x-python",
   "name": "python",
   "nbconvert_exporter": "python",
   "pygments_lexer": "ipython3",
   "version": "3.6.3"
  }
 },
 "nbformat": 4,
 "nbformat_minor": 2
}
