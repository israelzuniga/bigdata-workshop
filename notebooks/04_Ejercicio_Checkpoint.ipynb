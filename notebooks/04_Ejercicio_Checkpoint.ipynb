{
 "cells": [
  {
   "cell_type": "code",
   "execution_count": null,
   "metadata": {},
   "outputs": [],
   "source": [
    "import sys \n",
    "from pyspark import SparkConf, SparkContext"
   ]
  },
  {
   "cell_type": "code",
   "execution_count": null,
   "metadata": {},
   "outputs": [],
   "source": [
    "sc = SparkContext(appName='LoopsAndCheckpoint') \n",
    "\n",
    "\n",
    "sc.setCheckpointDir(\"checkpoint_docker\") \n",
    "\n",
    "rddofints = sc.parallelize([ 1,2,3,4,5,6,7,8,9,10]) \n",
    "try: \n",
    "    # this will create a very long lineage for rddofints \n",
    "    for i in range( 1000): \n",
    "        rddofints = rddofints.map( lambda x: x + 1) \n",
    "        if i % 10 == 0: \n",
    "            print(\" Looped \" + str( i) + \" times\")\n",
    "#             rddofints.checkpoint()\n",
    "            rddofints.count()\n",
    "except Exception as e:\n",
    "    print('Exception: ' + str(e))\n",
    "    print('RDD debug string: ')\n",
    "    print(\" RDD Debug String : \") \n",
    "    print(rddofints.toDebugString())\n",
    "\n",
    "\n"
   ]
  },
  {
   "cell_type": "code",
   "execution_count": null,
   "metadata": {},
   "outputs": [],
   "source": [
    "sc.stop()"
   ]
  }
 ],
 "metadata": {
  "kernelspec": {
   "display_name": "Python 3",
   "language": "python",
   "name": "python3"
  },
  "language_info": {
   "codemirror_mode": {
    "name": "ipython",
    "version": 3
   },
   "file_extension": ".py",
   "mimetype": "text/x-python",
   "name": "python",
   "nbconvert_exporter": "python",
   "pygments_lexer": "ipython3",
   "version": "3.6.3"
  }
 },
 "nbformat": 4,
 "nbformat_minor": 2
}
