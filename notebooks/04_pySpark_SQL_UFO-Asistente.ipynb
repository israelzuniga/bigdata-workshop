{
 "cells": [
  {
   "cell_type": "markdown",
   "metadata": {
    "deletable": true,
    "editable": true
   },
   "source": [
    "# SQL en PySpark\n",
    "\n",
    "\n",
    "## 1. Instanciar una app de Spark\n",
    "## 2. Importar ```SQLContext``` y ```Row``` de ```pyspark.sql```\n",
    "## 3. Instanciar ```SQLContext``` al contexto de Spark"
   ]
  },
  {
   "cell_type": "code",
   "execution_count": null,
   "metadata": {
    "collapsed": false,
    "deletable": true,
    "editable": true
   },
   "outputs": [],
   "source": []
  },
  {
   "cell_type": "markdown",
   "metadata": {
    "deletable": true,
    "editable": true
   },
   "source": [
    "## Cargar las siguientes funciones de utileria 😉"
   ]
  },
  {
   "cell_type": "code",
   "execution_count": null,
   "metadata": {
    "collapsed": true,
    "deletable": true,
    "editable": true
   },
   "outputs": [],
   "source": [
    "import csv\n",
    "import string\n",
    "exclude = set(string.punctuation)\n",
    "\n",
    "def parseLine(line):\n",
    "    csvdata = csv.reader([line], delimiter='\\t', quotechar='\"')\n",
    "    for fields in csvdata:\n",
    "        try:\n",
    "            summary = ''.join(ch for ch in fields[5].lower() if ch not in exclude)\n",
    "            return {\"City\": fields[2], \"Summary\" : summary}\n",
    "        except:\n",
    "            return { \"City\" : \"City\", \"Summary\": \"Summary\"}\n",
    "        \n",
    "        \n",
    "        \n",
    "        \n",
    "exclude = set(string.punctuation)\n",
    "colors = ('silver','gold','white','black','green','purple','orange','yellow','red','blue')\n",
    "directions =('north','south','east','west')\n",
    "\n",
    "def parseLineExtractColorAndDirection(line):\n",
    "    csvdata = csv.reader([line], delimiter='\\t', quotechar='\"')\n",
    "    for fields in csvdata:\n",
    "        try:\n",
    "            summary = ''.join(ch for ch in fields[5].lower() if ch not in exclude)\n",
    "            colorcounts = [1 if summary.find(str(c)) != -1 else 0 for c in colors]\n",
    "            if (sum(colorcounts)==0):\n",
    "                color='none'\n",
    "            elif (sum(colorcounts)>1):\n",
    "                color='multiple'\n",
    "            else:\n",
    "                color = colors[colorcounts.index(1)]\n",
    "            directioncounts = [1 if summary.find(str(d)) != -1 else 0 for d in directions]\n",
    "            if (sum(directioncounts)==0):\n",
    "                direction='none'\n",
    "            elif (sum(directioncounts)>1):\n",
    "                direction='multiple'\n",
    "            else:\n",
    "                direction = directions[directioncounts.index(1)]\n",
    "\n",
    "            return { \"City\": fields[2], \"Color\" : color,  \"Direction\": direction, \"Summary\" : summary}\n",
    "        except:\n",
    "            return { \"City\" : \"City\"  }\n",
    "        \n",
    "        \n",
    "def toRow(dic):\n",
    "    return Row(City=dic['City'],Color=dic['Color'],Direction=dic['Direction'],Summary=dic['Summary'])"
   ]
  },
  {
   "cell_type": "markdown",
   "metadata": {
    "deletable": true,
    "editable": true
   },
   "source": [
    "## Obtener el dataset UFO_awesome"
   ]
  },
  {
   "cell_type": "code",
   "execution_count": null,
   "metadata": {
    "collapsed": false,
    "deletable": true,
    "editable": true
   },
   "outputs": [],
   "source": [
    "!wget https://github.com/johnmyleswhite/ML_for_Hackers/blob/76410666caf8b0e725c07d3210aaacea66b347fb/01-Introduction/code/data/ufo/ufo_awesome.tsv?raw=true"
   ]
  },
  {
   "cell_type": "markdown",
   "metadata": {
    "deletable": true,
    "editable": true
   },
   "source": [
    "Crear un RDD a partir del archivo TSV"
   ]
  },
  {
   "cell_type": "code",
   "execution_count": null,
   "metadata": {
    "collapsed": false,
    "deletable": true,
    "editable": true,
    "scrolled": true
   },
   "outputs": [],
   "source": []
  },
  {
   "cell_type": "markdown",
   "metadata": {
    "deletable": true,
    "editable": true
   },
   "source": [
    "Inspeccionar la cabecera del dataset"
   ]
  },
  {
   "cell_type": "code",
   "execution_count": null,
   "metadata": {
    "collapsed": false,
    "deletable": true,
    "editable": true,
    "scrolled": true
   },
   "outputs": [],
   "source": []
  },
  {
   "cell_type": "markdown",
   "metadata": {
    "deletable": true,
    "editable": true
   },
   "source": [
    "Aplicar la función *parseLine* a cada línea del dataset y filtrar los elementos que no contienen ciudad registrada"
   ]
  },
  {
   "cell_type": "code",
   "execution_count": null,
   "metadata": {
    "collapsed": false,
    "deletable": true,
    "editable": true
   },
   "outputs": [],
   "source": []
  },
  {
   "cell_type": "markdown",
   "metadata": {
    "deletable": true,
    "editable": true
   },
   "source": [
    "Crear tres RDDs donde almacenemos:\n",
    "\n",
    "1. Resumen de cada avistamiento (map())\n",
    "2. Todas las palabras contenidas en los resumenes  (flatMap().map())\n",
    "3. Orientación (puntos cardinales) del avistamiento según las palabras filtradas en el RDD de palabras (reduceByKey().filter())"
   ]
  },
  {
   "cell_type": "code",
   "execution_count": null,
   "metadata": {
    "collapsed": false,
    "deletable": true,
    "editable": true
   },
   "outputs": [],
   "source": []
  },
  {
   "cell_type": "markdown",
   "metadata": {
    "deletable": true,
    "editable": true
   },
   "source": [
    "Procesar el color y dirección del RDD original al aplicat la función ```parseLineExtractColorAndDirection``` en aquellas líneas que tienen registro de ciudad    ```(map().filter())```"
   ]
  },
  {
   "cell_type": "code",
   "execution_count": null,
   "metadata": {
    "collapsed": false,
    "deletable": true,
    "editable": true,
    "scrolled": true
   },
   "outputs": [],
   "source": []
  },
  {
   "cell_type": "markdown",
   "metadata": {
    "deletable": true,
    "editable": true
   },
   "source": [
    "Repetir el paso anterior, pero exportar el RDD a un DF"
   ]
  },
  {
   "cell_type": "code",
   "execution_count": null,
   "metadata": {
    "collapsed": false,
    "deletable": true,
    "editable": true
   },
   "outputs": [],
   "source": []
  },
  {
   "cell_type": "markdown",
   "metadata": {
    "deletable": true,
    "editable": true
   },
   "source": [
    "Exportar el DF a DF de Pandas"
   ]
  },
  {
   "cell_type": "code",
   "execution_count": null,
   "metadata": {
    "collapsed": false,
    "deletable": true,
    "editable": true,
    "scrolled": true
   },
   "outputs": [],
   "source": []
  },
  {
   "cell_type": "markdown",
   "metadata": {
    "deletable": true,
    "editable": true
   },
   "source": [
    "Inspeccionar el esquma del DF"
   ]
  },
  {
   "cell_type": "code",
   "execution_count": null,
   "metadata": {
    "collapsed": false,
    "deletable": true,
    "editable": true
   },
   "outputs": [],
   "source": []
  },
  {
   "cell_type": "code",
   "execution_count": null,
   "metadata": {
    "collapsed": false,
    "deletable": true,
    "editable": true
   },
   "outputs": [],
   "source": []
  },
  {
   "cell_type": "code",
   "execution_count": null,
   "metadata": {
    "collapsed": false,
    "deletable": true,
    "editable": true
   },
   "outputs": [],
   "source": [
    "sc.stop()"
   ]
  },
  {
   "cell_type": "code",
   "execution_count": null,
   "metadata": {
    "collapsed": true,
    "deletable": true,
    "editable": true
   },
   "outputs": [],
   "source": []
  }
 ],
 "metadata": {
  "kernelspec": {
   "display_name": "Python 3",
   "language": "python",
   "name": "python3"
  },
  "language_info": {
   "codemirror_mode": {
    "name": "ipython",
    "version": 3
   },
   "file_extension": ".py",
   "mimetype": "text/x-python",
   "name": "python",
   "nbconvert_exporter": "python",
   "pygments_lexer": "ipython3",
   "version": "3.5.2"
  }
 },
 "nbformat": 4,
 "nbformat_minor": 2
}
